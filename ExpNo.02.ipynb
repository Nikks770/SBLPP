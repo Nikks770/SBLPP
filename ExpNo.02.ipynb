{
 "cells": [
  {
   "cell_type": "markdown",
   "id": "592ca17f-c1cd-46b7-9544-01e222fe1dde",
   "metadata": {},
   "source": [
    "### Nikhil-56(Exp.02)"
   ]
  },
  {
   "cell_type": "code",
   "execution_count": 2,
   "id": "4b54047a-fa7a-41d0-8496-cb778ba24f58",
   "metadata": {},
   "outputs": [],
   "source": [
    "###class and object"
   ]
  },
  {
   "cell_type": "code",
   "execution_count": 5,
   "id": "504515ad-454d-4036-a52b-85e454b98028",
   "metadata": {},
   "outputs": [
    {
     "name": "stdout",
     "output_type": "stream",
     "text": [
      "Developer with no specific skills\n"
     ]
    }
   ],
   "source": [
    "class Employee:\n",
    "    def __init__ (\n",
    "            self,\n",
    "            designation : str = 'Developer',\n",
    "            frontend : bool = False,\n",
    "            backend : bool = False\n",
    "    ):\n",
    "        self.designation = designation\n",
    "        self.frontend = frontend\n",
    "        self.backend = backend\n",
    "\n",
    "    def __repr__ (self):\n",
    "        return '{} (Frontend: {}, Backend: {})'.format(self.designation, self.frontend, self.backend)\n",
    "    \n",
    "    def verifier(self):\n",
    "        if self.frontend and self.backend:\n",
    "            return \"Full-stack Developer\"\n",
    "        elif self.frontend:\n",
    "            return \"Frontend Developer\"\n",
    "        elif self.backend:\n",
    "            return \"Backend Developer\"\n",
    "        else:\n",
    "            return \"Developer with no specific skills\"\n",
    "\n",
    "if __name__ == '__main__':\n",
    "    firstEmployee = Employee()\n",
    "    print(firstEmployee.verifier())  # Call the verifier method to display output\n"
   ]
  },
  {
   "cell_type": "code",
   "execution_count": null,
   "id": "bbc4d665-fc88-4a2a-8d5a-1b46d528b1b5",
   "metadata": {},
   "outputs": [],
   "source": []
  }
 ],
 "metadata": {
  "kernelspec": {
   "display_name": "Python 3 (ipykernel)",
   "language": "python",
   "name": "python3"
  },
  "language_info": {
   "codemirror_mode": {
    "name": "ipython",
    "version": 3
   },
   "file_extension": ".py",
   "mimetype": "text/x-python",
   "name": "python",
   "nbconvert_exporter": "python",
   "pygments_lexer": "ipython3",
   "version": "3.12.3"
  }
 },
 "nbformat": 4,
 "nbformat_minor": 5
}
