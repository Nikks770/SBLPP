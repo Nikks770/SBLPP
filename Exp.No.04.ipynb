{
 "cells": [
  {
   "cell_type": "markdown",
   "id": "8e0baae0-b6c9-4d83-b32c-2d5bfeb21b55",
   "metadata": {},
   "source": [
    "### Nikhil-56(Exp.No.04)"
   ]
  },
  {
   "cell_type": "markdown",
   "id": "f714ab4e-e922-4387-88e0-1a1c5e045cf6",
   "metadata": {},
   "source": [
    "### To implement a Python program to display file available in the current directory."
   ]
  },
  {
   "cell_type": "code",
   "execution_count": 11,
   "id": "d66359d6-ef57-467a-9f9f-4bddd8ea17e2",
   "metadata": {},
   "outputs": [
    {
     "name": "stdout",
     "output_type": "stream",
     "text": [
      "Files in the current directory : \n",
      "Exp.No.03.ipynb\n",
      "nikhil.txt\n",
      "Untitled2.ipynb\n"
     ]
    }
   ],
   "source": [
    "from pathlib import Path;\n",
    "\n",
    "curr_directory = Path('.');\n",
    "files = [f for f in curr_directory.iterdir() if f.is_file()];\n",
    "print(\"Files in the current directory : \");\n",
    "for file in files : \n",
    "    print(file);"
   ]
  },
  {
   "cell_type": "code",
   "execution_count": null,
   "id": "7dd190f3-ec9a-4e43-8f88-88934eddd7e4",
   "metadata": {},
   "outputs": [],
   "source": []
  }
 ],
 "metadata": {
  "kernelspec": {
   "display_name": "Python 3 (ipykernel)",
   "language": "python",
   "name": "python3"
  },
  "language_info": {
   "codemirror_mode": {
    "name": "ipython",
    "version": 3
   },
   "file_extension": ".py",
   "mimetype": "text/x-python",
   "name": "python",
   "nbconvert_exporter": "python",
   "pygments_lexer": "ipython3",
   "version": "3.11.9"
  }
 },
 "nbformat": 4,
 "nbformat_minor": 5
}
