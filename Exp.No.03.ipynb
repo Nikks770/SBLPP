{
 "cells": [
  {
   "cell_type": "markdown",
   "id": "af95372b-4a30-4a13-b8e5-e9bcefae58cf",
   "metadata": {},
   "source": [
    "### Nikhil-56(Exp.No.03)"
   ]
  },
  {
   "cell_type": "markdown",
   "id": "70f30747-ed38-4a21-95ff-61000feae00e",
   "metadata": {},
   "source": [
    "### To implement a Python program to count the number of lines, words and characters in a file."
   ]
  },
  {
   "cell_type": "code",
   "execution_count": 3,
   "id": "dff98511-fa3a-4f0a-8dda-d9fd9f38e3ea",
   "metadata": {},
   "outputs": [
    {
     "name": "stdout",
     "output_type": "stream",
     "text": [
      "Lines: 4\n",
      "Words: 7\n",
      "Characters: 50\n"
     ]
    }
   ],
   "source": [
    "if __name__ == '__main__':\n",
    "    with open ('nikhil.txt', 'r') as file:\n",
    "        lines = file.readlines ()\n",
    "        numberOfLines = len (lines)\n",
    "        numberOfWords = sum (len (line.split()) for line in lines)\n",
    "        numberOfCharacters = sum(len(line) for line in lines);\n",
    "        \n",
    "    print(f\"Lines: {numberOfLines}\")\n",
    "    print(f\"Words: {numberOfWords}\")\n",
    "    print(f\"Characters: {numberOfCharacters}\")"
   ]
  },
  {
   "cell_type": "code",
   "execution_count": null,
   "id": "942eacb6-cc95-4075-b808-57eb131146f7",
   "metadata": {},
   "outputs": [],
   "source": []
  }
 ],
 "metadata": {
  "kernelspec": {
   "display_name": "Python 3 (ipykernel)",
   "language": "python",
   "name": "python3"
  },
  "language_info": {
   "codemirror_mode": {
    "name": "ipython",
    "version": 3
   },
   "file_extension": ".py",
   "mimetype": "text/x-python",
   "name": "python",
   "nbconvert_exporter": "python",
   "pygments_lexer": "ipython3",
   "version": "3.11.9"
  }
 },
 "nbformat": 4,
 "nbformat_minor": 5
}
