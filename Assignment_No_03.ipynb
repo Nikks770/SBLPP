{
  "cells": [
    {
      "cell_type": "markdown",
      "metadata": {
        "id": "view-in-github",
        "colab_type": "text"
      },
      "source": [
        "<a href=\"https://colab.research.google.com/github/Nikks770/SBLPP/blob/main/Assignment_No_03.ipynb\" target=\"_parent\"><img src=\"https://colab.research.google.com/assets/colab-badge.svg\" alt=\"Open In Colab\"/></a>"
      ]
    },
    {
      "cell_type": "markdown",
      "id": "e40bb51d-e2b1-497f-9ee5-d81cee6481e7",
      "metadata": {
        "id": "e40bb51d-e2b1-497f-9ee5-d81cee6481e7"
      },
      "source": [
        "### Nikhil Kamalaji Shingade\n",
        "### Roll No-56\n",
        "## Assignment No-03"
      ]
    },
    {
      "cell_type": "markdown",
      "id": "26546d2d-2080-4575-b96e-99aca7e1470a",
      "metadata": {
        "id": "26546d2d-2080-4575-b96e-99aca7e1470a"
      },
      "source": [
        " Implement linked list, stacks, queues and dequeues data structures\n",
        "\n",
        "1. Given the head of a linked list, rotate the list to the right by k places.\n",
        "   \n",
        "Example 1\n",
        "\n",
        "Input: head = [1,2,3,4,5], k = 2\n",
        "Output: [4,5,1,2,3]\n",
        "\n",
        "\n",
        "Example 2\n",
        "\n",
        "Input: head = [0,1,2], k = 4\n",
        "Output: [2,0,1]\n"
      ]
    },
    {
      "cell_type": "code",
      "execution_count": null,
      "id": "f586bc08-0efc-4e39-b237-70a7e1551c90",
      "metadata": {
        "id": "f586bc08-0efc-4e39-b237-70a7e1551c90",
        "outputId": "72e9ced4-2f9f-4c50-ab6d-7e66b0a81b24"
      },
      "outputs": [
        {
          "name": "stdout",
          "output_type": "stream",
          "text": [
            "4 -> 5 -> 1 -> 2 -> 3 -> None\n",
            "2 -> 0 -> 1 -> None\n"
          ]
        }
      ],
      "source": [
        "class ListNode:\n",
        "    def __init__(self, val=0, next=None):\n",
        "        self.val = val\n",
        "        self.next = next\n",
        "\n",
        "def rotate_right(head, k):\n",
        "    if not head or not head.next or k == 0:\n",
        "        return head\n",
        "\n",
        "    #  Count the nodes\n",
        "    count = 1\n",
        "    curr = head\n",
        "    while curr.next:\n",
        "        curr = curr.next\n",
        "        count += 1\n",
        "\n",
        "    #  Adjust k if it's too big\n",
        "    k = k % count\n",
        "    if k == 0:\n",
        "        return head\n",
        "\n",
        "    # Find the new tail\n",
        "    new_tail_pos = count - k - 1\n",
        "    curr = head\n",
        "    for _ in range(new_tail_pos):\n",
        "        curr = curr.next\n",
        "\n",
        "    #  Reconnect the list\n",
        "    new_head = curr.next\n",
        "    curr.next = None  # Break the list\n",
        "\n",
        "    last = new_head\n",
        "    while last.next:\n",
        "        last = last.next\n",
        "    last.next = head  # Connect the tail to the head\n",
        "\n",
        "    return new_head\n",
        "\n",
        "# Example usage (Example 1)\n",
        "head1 = ListNode(1)\n",
        "head1.next = ListNode(2)\n",
        "head1.next.next = ListNode(3)\n",
        "head1.next.next.next = ListNode(4)\n",
        "head1.next.next.next.next = ListNode(5)\n",
        "\n",
        "rotated_head1 = rotate_right(head1, 2)\n",
        "\n",
        "# Print the rotated list\n",
        "while rotated_head1:\n",
        "    print(rotated_head1.val, end=\" -> \")\n",
        "    rotated_head1 = rotated_head1.next\n",
        "print(\"None\")\n",
        "\n",
        "# Example usage (Example 2)\n",
        "head2 = ListNode(0)\n",
        "head2.next = ListNode(1)\n",
        "head2.next.next = ListNode(2)\n",
        "\n",
        "rotated_head2 = rotate_right(head2, 4)\n",
        "\n",
        "# Print the rotated list\n",
        "while rotated_head2:\n",
        "    print(rotated_head2.val, end=\" -> \")\n",
        "    rotated_head2 = rotated_head2.next\n",
        "print(\"None\")"
      ]
    },
    {
      "cell_type": "code",
      "execution_count": null,
      "id": "9d1c993a-5123-4343-993c-e8d754cf07e0",
      "metadata": {
        "id": "9d1c993a-5123-4343-993c-e8d754cf07e0"
      },
      "outputs": [],
      "source": []
    }
  ],
  "metadata": {
    "kernelspec": {
      "display_name": "Python 3 (ipykernel)",
      "language": "python",
      "name": "python3"
    },
    "language_info": {
      "codemirror_mode": {
        "name": "ipython",
        "version": 3
      },
      "file_extension": ".py",
      "mimetype": "text/x-python",
      "name": "python",
      "nbconvert_exporter": "python",
      "pygments_lexer": "ipython3",
      "version": "3.11.9"
    },
    "colab": {
      "provenance": [],
      "include_colab_link": true
    }
  },
  "nbformat": 4,
  "nbformat_minor": 5
}