{
 "cells": [
  {
   "cell_type": "markdown",
   "id": "7abeda4e-362a-46eb-aba4-e8b5817cfb08",
   "metadata": {},
   "source": [
    "### Nikhil-56 (Exp-01)"
   ]
  },
  {
   "cell_type": "markdown",
   "id": "977c8fe1-82fe-4fe8-9034-5364f008367f",
   "metadata": {},
   "source": [
    "### Strings in Python"
   ]
  },
  {
   "cell_type": "code",
   "execution_count": 2,
   "id": "2d2d91ee-9637-4e65-b1fc-542c1a86c8de",
   "metadata": {},
   "outputs": [
    {
     "name": "stdout",
     "output_type": "stream",
     "text": [
      "This is a string\n",
      "This is a string\n",
      "This is a string\n"
     ]
    }
   ],
   "source": [
    "# Assigning string to a variable\n",
    "a = 'This is a string'\n",
    "print (a)\n",
    "b = \"This is a string\"\n",
    "print (b)\n",
    "c= '''This is a string'''\n",
    "print (c)"
   ]
  },
  {
   "cell_type": "markdown",
   "id": "cea843e9-88ee-442b-b2fe-a4a71eb80406",
   "metadata": {},
   "source": [
    "### Lists in Python"
   ]
  },
  {
   "cell_type": "code",
   "execution_count": 4,
   "id": "2afa89a0-d369-4564-9269-c24dc91d7b98",
   "metadata": {},
   "outputs": [
    {
     "name": "stdout",
     "output_type": "stream",
     "text": [
      "[1, 'a', 'string', 3]\n",
      "[1, 'a', 'string', 3, 6]\n",
      "[1, 'a', 'string', 3]\n",
      "a\n"
     ]
    }
   ],
   "source": [
    "# Declaring a list\n",
    "L = [1, \"a\" , \"string\" , 1+2]\n",
    "print (L)\n",
    "#Adding an element in the list\n",
    "L.append(6) \n",
    "print (L)\n",
    "#Deleting last element from a list\n",
    "L.pop()\n",
    "print (L)\n",
    "#Displaying Second element of the list\n",
    "print (L[1])"
   ]
  },
  {
   "cell_type": "markdown",
   "id": "18143d54-13fd-456e-afee-a158de7f0ae1",
   "metadata": {},
   "source": [
    "### Tuples in Python"
   ]
  },
  {
   "cell_type": "code",
   "execution_count": 5,
   "id": "d48fe437-994a-41e4-b4f7-5b7261e35af0",
   "metadata": {},
   "outputs": [
    {
     "name": "stdout",
     "output_type": "stream",
     "text": [
      "(1, 'a', 'string', 3)\n",
      "a\n"
     ]
    }
   ],
   "source": [
    "tup = (1, \"a\", \"string\", 1+2)\n",
    "print(tup)\n",
    "print(tup[1])"
   ]
  },
  {
   "cell_type": "markdown",
   "id": "36756f3b-9afe-4083-a6b5-f8df88e8c372",
   "metadata": {},
   "source": [
    " ### Dictionaries in Python"
   ]
  },
  {
   "cell_type": "markdown",
   "id": "a6333c38-6c40-496e-8fb8-81332e026045",
   "metadata": {},
   "source": [
    "A Python dictionary is a data structure that stores the value in key: value pairs. Values in a dictionary can be of any data type and can be duplicated, whereas keys can’t be repeated and must be immutable."
   ]
  },
  {
   "cell_type": "code",
   "execution_count": 7,
   "id": "42cf5bac-11de-42f8-84c8-bd46e727fece",
   "metadata": {},
   "outputs": [
    {
     "name": "stdout",
     "output_type": "stream",
     "text": [
      "{1: 'Lorem', 2: 'Ipsum', 3: 'Dolerum'}\n"
     ]
    }
   ],
   "source": [
    "d = {1: 'Lorem', 2: 'Ipsum', 3: 'Dolerum'}\n",
    "print(d)"
   ]
  },
  {
   "cell_type": "markdown",
   "id": "1b55a5ab-6452-4ed7-b6c5-0a34549552a1",
   "metadata": {},
   "source": [
    " ### Create a Dictionary"
   ]
  },
  {
   "cell_type": "code",
   "execution_count": 8,
   "id": "64ce432b-0fdf-4745-9693-08319d2e0329",
   "metadata": {},
   "outputs": [
    {
     "name": "stdout",
     "output_type": "stream",
     "text": [
      "{1: 'Game', 2: 'of', 3: 'Thrones'}\n",
      "{'a': 'House', 'b': 'of', 'c': 'Cards'}\n"
     ]
    }
   ],
   "source": [
    "# create dictionary using { }\n",
    "d1 = {1: 'Game', 2: 'of', 3: 'Thrones'}\n",
    "print(d1)\n",
    "\n",
    "# create dictionary using dict() constructor\n",
    "d2 = dict(a = \"House\", b = \"of\", c = \"Cards\")\n",
    "print(d2)"
   ]
  },
  {
   "cell_type": "markdown",
   "id": "2a9e84b4-30c1-41e5-af70-bbb600a5fa15",
   "metadata": {},
   "source": [
    "### Accessing Dictionary Items"
   ]
  },
  {
   "cell_type": "code",
   "execution_count": 9,
   "id": "ddf0c0ce-b2f5-43f9-a374-c663f2b8d0f2",
   "metadata": {},
   "outputs": [
    {
     "name": "stdout",
     "output_type": "stream",
     "text": [
      "Alice\n",
      "Alice\n"
     ]
    }
   ],
   "source": [
    "d = { \"name\": \"Alice\", 1: \"Python\", (1, 2): [1,2,4] }\n",
    "\n",
    "# Access using key\n",
    "print(d[\"name\"])\n",
    "\n",
    "# Access using get()\n",
    "print(d.get(\"name\"))"
   ]
  },
  {
   "cell_type": "markdown",
   "id": "3b957c32-3f3e-4ae1-b7e6-080ca1aa3f07",
   "metadata": {},
   "source": [
    "### Adding and Updating Dictionary Items"
   ]
  },
  {
   "cell_type": "code",
   "execution_count": 10,
   "id": "8cf4c101-d27a-4517-a851-98e54ed8e861",
   "metadata": {},
   "outputs": [
    {
     "name": "stdout",
     "output_type": "stream",
     "text": [
      "{1: 'Python dict', 2: 'of', 3: 'Thrones', 'age': 22}\n"
     ]
    }
   ],
   "source": [
    "d = {1: 'Game', 2: 'of', 3: 'Thrones'}\n",
    "\n",
    "# Adding a new key-value pair\n",
    "d[\"age\"] = 22\n",
    "\n",
    "# Updating an existing value\n",
    "d[1] = \"Python dict\"\n",
    "\n",
    "print(d)"
   ]
  },
  {
   "cell_type": "markdown",
   "id": "cd455502-1d1f-4697-b4bf-aeff51b949d4",
   "metadata": {},
   "source": [
    "### Deleting and Updating Dictionary Items "
   ]
  },
  {
   "cell_type": "code",
   "execution_count": 13,
   "id": "cdcbc74d-6c8e-4f13-a732-2153a48013d0",
   "metadata": {},
   "outputs": [
    {
     "name": "stdout",
     "output_type": "stream",
     "text": [
      "{'name': 'Nikhil ', 'city': 'Mumbai'}\n"
     ]
    }
   ],
   "source": [
    "my_dict = {\n",
    "    \"name\": \"Nikhil \",\n",
    "    \"age\": 19,\n",
    "    \"city\": \"Mumbai\"\n",
    "}\n",
    "\n",
    "# Deleting the 'age' key-value pair\n",
    "del my_dict[\"age\"]\n",
    "\n",
    "print(my_dict)\n"
   ]
  },
  {
   "cell_type": "code",
   "execution_count": null,
   "id": "443cfa8f-1ffc-4ede-9e53-65474f5ecaa0",
   "metadata": {},
   "outputs": [],
   "source": []
  }
 ],
 "metadata": {
  "kernelspec": {
   "display_name": "Python 3 (ipykernel)",
   "language": "python",
   "name": "python3"
  },
  "language_info": {
   "codemirror_mode": {
    "name": "ipython",
    "version": 3
   },
   "file_extension": ".py",
   "mimetype": "text/x-python",
   "name": "python",
   "nbconvert_exporter": "python",
   "pygments_lexer": "ipython3",
   "version": "3.11.9"
  }
 },
 "nbformat": 4,
 "nbformat_minor": 5
}
