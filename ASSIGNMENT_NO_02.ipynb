{
  "cells": [
    {
      "cell_type": "markdown",
      "metadata": {
        "id": "view-in-github",
        "colab_type": "text"
      },
      "source": [
        "<a href=\"https://colab.research.google.com/github/Nikks770/SBLPP/blob/main/ASSIGNMENT_NO_02.ipynb\" target=\"_parent\"><img src=\"https://colab.research.google.com/assets/colab-badge.svg\" alt=\"Open In Colab\"/></a>"
      ]
    },
    {
      "cell_type": "markdown",
      "metadata": {
        "id": "FZs5C2VBEj7l"
      },
      "source": [
        "### Nikhil Kamalaji Shingade\n",
        "### Roll No-56\n",
        "## Assignment No-02"
      ]
    },
    {
      "cell_type": "markdown",
      "metadata": {
        "id": "RPVD5EjbuO3Q"
      },
      "source": [
        "##### You are given a large log file containing various system events. Each line in the log file follows this format:\n",
        "##### [YYYY-MM-DD HH:MM:SS] [LOG_LEVEL] [MODULE] Message\n",
        "#### where:\n",
        "##### • YYYY-MM-DD HH:MM:SS is a timestamp.\n",
        "##### • LOG_LEVEL can be INFO, WARN, ERROR, or DEBUG.\n",
        "##### • MODULE represents the system module name (alphanumeric, can contain underscores).\n",
        "##### • Message is the actual log message (it may contain any characters).\n",
        "#### task is :\n",
        "##### Write a function extract_critical_errors(log_data: str) -> list[tuple] that takes a multiline string log_data (containing log entries) and returns a list of tuples containing:\n",
        "##### 1. The timestamp\n",
        "##### 2. The module name\n",
        "##### 3. The error message\n",
        "#### BUT only if:\n",
        "##### • The LOG_LEVEL is ERROR.\n",
        "##### • The message contains at least one IP address in IPv4 format (xxx.xxx.xxx.xxx, where xxx is in the range 0-255).\n",
        "##### • The message contains a hexadecimal error code, formatted as 0x followed by exactly 8 hexadecimal digits (0-9, A-F)."
      ]
    },
    {
      "cell_type": "code",
      "execution_count": null,
      "metadata": {
        "colab": {
          "base_uri": "https://localhost:8080/"
        },
        "id": "6vr0u14kpD7w",
        "outputId": "6531bcb3-17cb-4f65-bf79-ff0e5c312fbf"
      },
      "outputs": [
        {
          "name": "stdout",
          "output_type": "stream",
          "text": [
            "Enter the first LOG entry: [2025-02-10 14:23:01] [INFO] [Auth_Module] User login successful.\n",
            "Enter the second LOG entry: [2025-02-10 15:45:32] [ERROR] [Net_Module] Connection timeout from 192.168.1.10. Error Code: 0xAB12CD34\n",
            "Enter the third LOG entry: [2025-02-10 16:01:10] [WARN] [Disk_Module] Low disk space warning.\n",
            "Enter the fourth LOG entry: [2025-02-10 17:12:05] [ERROR] [Security_Module] Unauthorized access detected from 10.0.0.5. Error Code: 0xDEADBEEF\n",
            "\n",
            "Inputs:\n",
            "[2025-02-10 14:23:01] [INFO] [Auth_Module] User login successful.\n",
            "[2025-02-10 15:45:32] [ERROR] [Net_Module] Connection timeout from 192.168.1.10. Error Code: 0xAB12CD34\n",
            "[2025-02-10 16:01:10] [WARN] [Disk_Module] Low disk space warning.\n",
            "[2025-02-10 17:12:05] [ERROR] [Security_Module] Unauthorized access detected from 10.0.0.5. Error Code: 0xDEADBEEF\n",
            "\n",
            "Output:\n",
            "('2025-02-10 15:45:32', 'Net_Module', 'Connection timeout from 192.168.1.10. Error Code: 0xAB12CD34')\n",
            "('2025-02-10 17:12:05', 'Security_Module', 'Unauthorized access detected from 10.0.0.5. Error Code: 0xDEADBEEF')\n"
          ]
        }
      ],
      "source": [
        "import re\n",
        "\n",
        "def extract_critical_errors(log_data: str) -> list[tuple]:\n",
        "    # Regex pattern to capture the necessary log information\n",
        "    pattern = r'\\[(\\d{4}-\\d{2}-\\d{2} \\d{2}:\\d{2}:\\d{2})\\] \\[ERROR\\] \\[(\\w+)\\] (.*(?:\\d{1,3}\\.){3}\\d{1,3}.*0x[0-9A-Fa-f]{8}.*)'\n",
        "\n",
        "    # Use re.findall() to find all matches that conform to the pattern\n",
        "    matches = re.findall(pattern, log_data)\n",
        "\n",
        "    # Return the matches as a list of tuples\n",
        "    return matches\n",
        "\n",
        "def get_user_input():\n",
        "    # Taking 4 inputs from the user\n",
        "    LOG_1 = input(\"Enter the first LOG entry: \")\n",
        "    LOG_2 = input(\"Enter the second LOG entry: \")\n",
        "    LOG_3 = input(\"Enter the third LOG entry: \")\n",
        "    LOG_4 = input(\"Enter the fourth LOG entry: \")\n",
        "\n",
        "    # Combine the inputs to simulate the log data\n",
        "    log_data = f\"{LOG_1}\\n{LOG_2}\\n{LOG_3}\\n{LOG_4}\"\n",
        "\n",
        "    # Display the inputs on separate lines\n",
        "    print(\"\\nInputs:\")\n",
        "    print(LOG_1)\n",
        "    print(LOG_2)\n",
        "    print(LOG_3)\n",
        "    print(LOG_4)\n",
        "\n",
        "    # Call the extract_critical_errors function to process the log data\n",
        "    result = extract_critical_errors(log_data)\n",
        "\n",
        "    # Display the result (output)\n",
        "    print(\"\\nOutput:\")\n",
        "    for item in result:\n",
        "        print(item)\n",
        "\n",
        "# Call the function\n",
        "get_user_input()\n"
      ]
    }
  ],
  "metadata": {
    "colab": {
      "provenance": [],
      "include_colab_link": true
    },
    "kernelspec": {
      "display_name": "Python 3 (ipykernel)",
      "language": "python",
      "name": "python3"
    },
    "language_info": {
      "codemirror_mode": {
        "name": "ipython",
        "version": 3
      },
      "file_extension": ".py",
      "mimetype": "text/x-python",
      "name": "python",
      "nbconvert_exporter": "python",
      "pygments_lexer": "ipython3",
      "version": "3.11.9"
    }
  },
  "nbformat": 4,
  "nbformat_minor": 0
}